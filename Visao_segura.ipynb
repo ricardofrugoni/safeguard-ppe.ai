{
  "nbformat": 4,
  "nbformat_minor": 0,
  "metadata": {
    "colab": {
      "provenance": [],
      "gpuType": "A100"
    },
    "kernelspec": {
      "name": "python3",
      "display_name": "Python 3"
    },
    "language_info": {
      "name": "python"
    },
    "accelerator": "GPU"
  },
  "cells": [
    {
      "cell_type": "code",
      "source": [
        "!pip install -q ultralytics opencv-python pillow pyyaml albumentations\n",
        "print(\"Dependências instaladas\")"
      ],
      "metadata": {
        "id": "MI4sNlUJpZ5q",
        "colab": {
          "base_uri": "https://localhost:8080/"
        },
        "outputId": "dc9ce5e4-c002-4908-8768-8b0d88f995c3"
      },
      "execution_count": 3,
      "outputs": [
        {
          "output_type": "stream",
          "name": "stdout",
          "text": [
            "\u001b[?25l   \u001b[90m━━━━━━━━━━━━━━━━━━━━━━━━━━━━━━━━━━━━━━━━\u001b[0m \u001b[32m0.0/1.1 MB\u001b[0m \u001b[31m?\u001b[0m eta \u001b[36m-:--:--\u001b[0m\r\u001b[2K   \u001b[90m━━━━━━━━━━━━━━━━━━━━━━━━━━━━━━━━━━━━━━━━\u001b[0m \u001b[32m1.1/1.1 MB\u001b[0m \u001b[31m64.4 MB/s\u001b[0m eta \u001b[36m0:00:00\u001b[0m\n",
            "\u001b[?25hDependências instaladas\n"
          ]
        }
      ]
    },
    {
      "cell_type": "code",
      "source": [
        "import torch\n",
        "import time\n",
        "import yaml\n",
        "import cv2\n",
        "import numpy as np\n",
        "import shutil\n",
        "from pathlib import Path\n",
        "from ultralytics import YOLO\n",
        "\n",
        "print(f\"PyTorch: {torch.__version__}\")\n",
        "print(f\"CUDA: {torch.cuda.is_available()}\")\n",
        "if torch.cuda.is_available():\n",
        "    print(f\"GPU: {torch.cuda.get_device_name(0)}\")"
      ],
      "metadata": {
        "id": "NjdDETujptBB",
        "colab": {
          "base_uri": "https://localhost:8080/"
        },
        "outputId": "ee762e14-9c6e-4d3e-a2c9-154e5c205fe4"
      },
      "execution_count": 4,
      "outputs": [
        {
          "output_type": "stream",
          "name": "stdout",
          "text": [
            "Creating new Ultralytics Settings v0.0.6 file ✅ \n",
            "View Ultralytics Settings with 'yolo settings' or at '/root/.config/Ultralytics/settings.json'\n",
            "Update Settings with 'yolo settings key=value', i.e. 'yolo settings runs_dir=path/to/dir'. For help see https://docs.ultralytics.com/quickstart/#ultralytics-settings.\n",
            "PyTorch: 2.8.0+cu126\n",
            "CUDA: True\n",
            "GPU: NVIDIA A100-SXM4-40GB\n"
          ]
        }
      ]
    },
    {
      "cell_type": "code",
      "source": [
        "SAVE_DIR = \"/content/drive/MyDrive/PPE_Detection\"\n",
        "DATASET_BASE = \"/content/datasets/ppe\"\n",
        "DATASET_AUG = \"/content/datasets/ppe_augmented\"\n",
        "\n",
        "print(f\"Diretório de modelos: {SAVE_DIR}\")\n",
        "print(f\"Dataset base: {DATASET_BASE}\")\n",
        "print(f\"Dataset aumentado: {DATASET_AUG}\")"
      ],
      "metadata": {
        "id": "fy2d5aR7p1o8",
        "colab": {
          "base_uri": "https://localhost:8080/"
        },
        "outputId": "123f1e01-843b-4b27-f185-4e9a28d182dd"
      },
      "execution_count": 5,
      "outputs": [
        {
          "output_type": "stream",
          "name": "stdout",
          "text": [
            "Diretório de modelos: /content/drive/MyDrive/PPE_Detection\n",
            "Dataset base: /content/datasets/ppe\n",
            "Dataset aumentado: /content/datasets/ppe_augmented\n"
          ]
        }
      ]
    },
    {
      "cell_type": "code",
      "source": [
        "!pip install -q roboflow\n",
        "\n",
        "from roboflow import Roboflow\n",
        "\n",
        "rf = Roboflow(api_key=\"tSGbJRy40ipX4Xo7rYhw\")\n",
        "project = rf.workspace(\"joseph-nelson\").project(\"hard-hat-workers\")\n",
        "dataset = project.version(2).download(\"yolov8\", location=DATASET_BASE)\n",
        "\n",
        "train_imgs = len(list(Path(DATASET_BASE + '/train/images').glob('*.jpg')))\n",
        "valid_imgs = len(list(Path(DATASET_BASE + '/valid/images').glob('*.jpg')))\n",
        "\n",
        "print(f\"Treino: {train_imgs} imagens\")\n",
        "print(f\"Validacao: {valid_imgs} imagens\")"
      ],
      "metadata": {
        "colab": {
          "base_uri": "https://localhost:8080/"
        },
        "id": "97sBLGrMrMcA",
        "outputId": "04046c4a-eb9b-4f45-e6b9-9e56c9e05414"
      },
      "execution_count": 6,
      "outputs": [
        {
          "output_type": "stream",
          "name": "stdout",
          "text": [
            "\u001b[?25l   \u001b[90m━━━━━━━━━━━━━━━━━━━━━━━━━━━━━━━━━━━━━━━━\u001b[0m \u001b[32m0.0/89.9 kB\u001b[0m \u001b[31m?\u001b[0m eta \u001b[36m-:--:--\u001b[0m\r\u001b[2K   \u001b[90m━━━━━━━━━━━━━━━━━━━━━━━━━━━━━━━━━━━━━━━━\u001b[0m \u001b[32m89.9/89.9 kB\u001b[0m \u001b[31m10.1 MB/s\u001b[0m eta \u001b[36m0:00:00\u001b[0m\n",
            "\u001b[2K   \u001b[90m━━━━━━━━━━━━━━━━━━━━━━━━━━━━━━━━━━━━━━━━\u001b[0m \u001b[32m66.8/66.8 kB\u001b[0m \u001b[31m6.7 MB/s\u001b[0m eta \u001b[36m0:00:00\u001b[0m\n",
            "\u001b[2K   \u001b[90m━━━━━━━━━━━━━━━━━━━━━━━━━━━━━━━━━━━━━━━━\u001b[0m \u001b[32m49.9/49.9 MB\u001b[0m \u001b[31m53.9 MB/s\u001b[0m eta \u001b[36m0:00:00\u001b[0m\n",
            "\u001b[2K   \u001b[90m━━━━━━━━━━━━━━━━━━━━━━━━━━━━━━━━━━━━━━━━\u001b[0m \u001b[32m1.4/1.4 MB\u001b[0m \u001b[31m87.3 MB/s\u001b[0m eta \u001b[36m0:00:00\u001b[0m\n",
            "\u001b[2K   \u001b[90m━━━━━━━━━━━━━━━━━━━━━━━━━━━━━━━━━━━━━━━━\u001b[0m \u001b[32m4.2/4.2 MB\u001b[0m \u001b[31m134.2 MB/s\u001b[0m eta \u001b[36m0:00:00\u001b[0m\n",
            "loading Roboflow workspace...\n",
            "loading Roboflow project...\n"
          ]
        },
        {
          "output_type": "stream",
          "name": "stderr",
          "text": [
            "Downloading Dataset Version Zip in /content/datasets/ppe to yolov8:: 100%|██████████| 239959/239959 [00:14<00:00, 16621.74it/s]"
          ]
        },
        {
          "output_type": "stream",
          "name": "stdout",
          "text": [
            "\n"
          ]
        },
        {
          "output_type": "stream",
          "name": "stderr",
          "text": [
            "\n",
            "Extracting Dataset Version Zip to /content/datasets/ppe in yolov8:: 100%|██████████| 14079/14079 [00:01<00:00, 9989.70it/s] "
          ]
        },
        {
          "output_type": "stream",
          "name": "stdout",
          "text": [
            "Treino: 5269 imagens\n",
            "Validacao: 0 imagens\n"
          ]
        },
        {
          "output_type": "stream",
          "name": "stderr",
          "text": [
            "\n"
          ]
        }
      ]
    },
    {
      "cell_type": "code",
      "source": [
        "import shutil\n",
        "\n",
        "# Verifica estrutura\n",
        "print(\"Estrutura atual:\")\n",
        "print(f\"Treino: {len(list(Path(DATASET_BASE + '/train/images').glob('*.jpg')))} imgs\")\n",
        "print(f\"Validacao: {len(list(Path(DATASET_BASE + '/valid/images').glob('*.jpg')))} imgs\")\n",
        "\n",
        "# Se validação está vazia, cria split\n",
        "valid_dir = Path(DATASET_BASE) / 'valid'\n",
        "if not (valid_dir / 'images').exists() or len(list((valid_dir / 'images').glob('*.jpg'))) == 0:\n",
        "    print(\"\\nCriando split de validacao...\")\n",
        "\n",
        "    (valid_dir / 'images').mkdir(parents=True, exist_ok=True)\n",
        "    (valid_dir / 'labels').mkdir(parents=True, exist_ok=True)\n",
        "\n",
        "    train_imgs = list(Path(DATASET_BASE + '/train/images').glob('*.jpg'))\n",
        "\n",
        "    # Move 20% para validação\n",
        "    n_valid = max(10, len(train_imgs) // 5)\n",
        "\n",
        "    for img_path in train_imgs[:n_valid]:\n",
        "        # Move imagem\n",
        "        shutil.move(str(img_path), str(valid_dir / 'images' / img_path.name))\n",
        "\n",
        "        # Move label\n",
        "        label_path = Path(DATASET_BASE) / 'train' / 'labels' / f\"{img_path.stem}.txt\"\n",
        "        if label_path.exists():\n",
        "            shutil.move(str(label_path), str(valid_dir / 'labels' / label_path.name))\n",
        "\n",
        "    print(f\"Movidas {n_valid} imagens para validacao\")\n",
        "\n",
        "# Verifica final\n",
        "train_final = len(list(Path(DATASET_BASE + '/train/images').glob('*.jpg')))\n",
        "valid_final = len(list(Path(DATASET_BASE + '/valid/images').glob('*.jpg')))\n",
        "\n",
        "print(f\"\\nFinal:\")\n",
        "print(f\"Treino: {train_final} imgs\")\n",
        "print(f\"Validacao: {valid_final} imgs\")"
      ],
      "metadata": {
        "colab": {
          "base_uri": "https://localhost:8080/"
        },
        "id": "-L7tu9-LrZUm",
        "outputId": "45f6b7a5-da04-4145-f83f-c4e79ce1c171"
      },
      "execution_count": 7,
      "outputs": [
        {
          "output_type": "stream",
          "name": "stdout",
          "text": [
            "Estrutura atual:\n",
            "Treino: 5269 imgs\n",
            "Validacao: 0 imgs\n",
            "\n",
            "Criando split de validacao...\n",
            "Movidas 1053 imagens para validacao\n",
            "\n",
            "Final:\n",
            "Treino: 4216 imgs\n",
            "Validacao: 1053 imgs\n"
          ]
        }
      ]
    },
    {
      "cell_type": "code",
      "source": [
        "# CÉLULA 5 OTIMIZADA: Treinamento A100\n",
        "model = YOLO('yolov8n.pt')\n",
        "\n",
        "results = model.train(\n",
        "    data=DATASET_BASE + '/data.yaml',\n",
        "    epochs=20,        # Reduzido\n",
        "    imgsz=640,\n",
        "    batch=64,         # Maior para A100\n",
        "    device=0,\n",
        "    workers=8,        # Otimizado\n",
        "    cache=True,       # Cache em RAM\n",
        "    project=SAVE_DIR,\n",
        "    name='ppe_model',\n",
        "    patience=8,\n",
        "    save=True,\n",
        "    exist_ok=True,\n",
        "    verbose=False,    # Menos logging\n",
        "    plots=False       # Sem plots (economiza tempo)\n",
        ")\n",
        "\n",
        "print(f\"Modelo: {SAVE_DIR}/ppe_model/weights/best.pt\")"
      ],
      "metadata": {
        "colab": {
          "base_uri": "https://localhost:8080/"
        },
        "id": "cJnEyShNsJU3",
        "outputId": "283eaac6-91f8-418e-ff4c-09299eebf71d"
      },
      "execution_count": 9,
      "outputs": [
        {
          "output_type": "stream",
          "name": "stdout",
          "text": [
            "Ultralytics 8.3.213 🚀 Python-3.12.12 torch-2.8.0+cu126 CUDA:0 (NVIDIA A100-SXM4-40GB, 40507MiB)\n",
            "\u001b[34m\u001b[1mengine/trainer: \u001b[0magnostic_nms=False, amp=True, augment=False, auto_augment=randaugment, batch=64, bgr=0.0, box=7.5, cache=True, cfg=None, classes=None, close_mosaic=10, cls=0.5, compile=False, conf=None, copy_paste=0.0, copy_paste_mode=flip, cos_lr=False, cutmix=0.0, data=/content/datasets/ppe/data.yaml, degrees=0.0, deterministic=True, device=0, dfl=1.5, dnn=False, dropout=0.0, dynamic=False, embed=None, epochs=20, erasing=0.4, exist_ok=True, fliplr=0.5, flipud=0.0, format=torchscript, fraction=1.0, freeze=None, half=False, hsv_h=0.015, hsv_s=0.7, hsv_v=0.4, imgsz=640, int8=False, iou=0.7, keras=False, kobj=1.0, line_width=None, lr0=0.01, lrf=0.01, mask_ratio=4, max_det=300, mixup=0.0, mode=train, model=yolov8n.pt, momentum=0.937, mosaic=1.0, multi_scale=False, name=ppe_model, nbs=64, nms=False, opset=None, optimize=False, optimizer=auto, overlap_mask=True, patience=8, perspective=0.0, plots=False, pose=12.0, pretrained=True, profile=False, project=/content/drive/MyDrive/PPE_Detection, rect=False, resume=False, retina_masks=False, save=True, save_conf=False, save_crop=False, save_dir=/content/drive/MyDrive/PPE_Detection/ppe_model, save_frames=False, save_json=False, save_period=-1, save_txt=False, scale=0.5, seed=0, shear=0.0, show=False, show_boxes=True, show_conf=True, show_labels=True, simplify=True, single_cls=False, source=None, split=val, stream_buffer=False, task=detect, time=None, tracker=botsort.yaml, translate=0.1, val=True, verbose=False, vid_stride=1, visualize=False, warmup_bias_lr=0.1, warmup_epochs=3.0, warmup_momentum=0.8, weight_decay=0.0005, workers=8, workspace=None\n",
            "Overriding model.yaml nc=80 with nc=3\n",
            "\n",
            "                   from  n    params  module                                       arguments                     \n",
            "  0                  -1  1       464  ultralytics.nn.modules.conv.Conv             [3, 16, 3, 2]                 \n",
            "  1                  -1  1      4672  ultralytics.nn.modules.conv.Conv             [16, 32, 3, 2]                \n",
            "  2                  -1  1      7360  ultralytics.nn.modules.block.C2f             [32, 32, 1, True]             \n",
            "  3                  -1  1     18560  ultralytics.nn.modules.conv.Conv             [32, 64, 3, 2]                \n",
            "  4                  -1  2     49664  ultralytics.nn.modules.block.C2f             [64, 64, 2, True]             \n",
            "  5                  -1  1     73984  ultralytics.nn.modules.conv.Conv             [64, 128, 3, 2]               \n",
            "  6                  -1  2    197632  ultralytics.nn.modules.block.C2f             [128, 128, 2, True]           \n",
            "  7                  -1  1    295424  ultralytics.nn.modules.conv.Conv             [128, 256, 3, 2]              \n",
            "  8                  -1  1    460288  ultralytics.nn.modules.block.C2f             [256, 256, 1, True]           \n",
            "  9                  -1  1    164608  ultralytics.nn.modules.block.SPPF            [256, 256, 5]                 \n",
            " 10                  -1  1         0  torch.nn.modules.upsampling.Upsample         [None, 2, 'nearest']          \n",
            " 11             [-1, 6]  1         0  ultralytics.nn.modules.conv.Concat           [1]                           \n",
            " 12                  -1  1    148224  ultralytics.nn.modules.block.C2f             [384, 128, 1]                 \n",
            " 13                  -1  1         0  torch.nn.modules.upsampling.Upsample         [None, 2, 'nearest']          \n",
            " 14             [-1, 4]  1         0  ultralytics.nn.modules.conv.Concat           [1]                           \n",
            " 15                  -1  1     37248  ultralytics.nn.modules.block.C2f             [192, 64, 1]                  \n",
            " 16                  -1  1     36992  ultralytics.nn.modules.conv.Conv             [64, 64, 3, 2]                \n",
            " 17            [-1, 12]  1         0  ultralytics.nn.modules.conv.Concat           [1]                           \n",
            " 18                  -1  1    123648  ultralytics.nn.modules.block.C2f             [192, 128, 1]                 \n",
            " 19                  -1  1    147712  ultralytics.nn.modules.conv.Conv             [128, 128, 3, 2]              \n",
            " 20             [-1, 9]  1         0  ultralytics.nn.modules.conv.Concat           [1]                           \n",
            " 21                  -1  1    493056  ultralytics.nn.modules.block.C2f             [384, 256, 1]                 \n",
            " 22        [15, 18, 21]  1    751897  ultralytics.nn.modules.head.Detect           [3, [64, 128, 256]]           \n",
            "Model summary: 129 layers, 3,011,433 parameters, 3,011,417 gradients, 8.2 GFLOPs\n",
            "\n",
            "Transferred 319/355 items from pretrained weights\n",
            "Freezing layer 'model.22.dfl.conv.weight'\n",
            "\u001b[34m\u001b[1mAMP: \u001b[0mrunning Automatic Mixed Precision (AMP) checks...\n",
            "\u001b[KDownloading https://github.com/ultralytics/assets/releases/download/v8.3.0/yolo11n.pt to 'yolo11n.pt': 100% ━━━━━━━━━━━━ 5.4MB 257.6MB/s 0.0s\n",
            "\u001b[34m\u001b[1mAMP: \u001b[0mchecks passed ✅\n",
            "\u001b[34m\u001b[1mtrain: \u001b[0mFast image access ✅ (ping: 0.0±0.0 ms, read: 1214.4±508.9 MB/s, size: 35.9 KB)\n",
            "\u001b[K\u001b[34m\u001b[1mtrain: \u001b[0mScanning /content/datasets/ppe/train/labels.cache... 4216 images, 0 backgrounds, 0 corrupt: 100% ━━━━━━━━━━━━ 4216/4216 7.1Mit/s 0.0s\n",
            "WARNING ⚠️ cache='ram' may produce non-deterministic training results. Consider cache='disk' as a deterministic alternative if your disk space allows.\n",
            "\u001b[K\u001b[34m\u001b[1mtrain: \u001b[0mCaching images (3.3GB RAM): 100% ━━━━━━━━━━━━ 4216/4216 2.5Kit/s 1.7s\n",
            "\u001b[34m\u001b[1malbumentations: \u001b[0mBlur(p=0.01, blur_limit=(3, 7)), MedianBlur(p=0.01, blur_limit=(3, 7)), ToGray(p=0.01, method='weighted_average', num_output_channels=3), CLAHE(p=0.01, clip_limit=(1.0, 4.0), tile_grid_size=(8, 8))\n",
            "\u001b[34m\u001b[1mval: \u001b[0mFast image access ✅ (ping: 0.0±0.0 ms, read: 318.5±61.8 MB/s, size: 30.4 KB)\n",
            "\u001b[K\u001b[34m\u001b[1mval: \u001b[0mScanning /content/datasets/ppe/valid/labels.cache... 1053 images, 0 backgrounds, 0 corrupt: 100% ━━━━━━━━━━━━ 1053/1053 972.2Kit/s 0.0s\n",
            "WARNING ⚠️ cache='ram' may produce non-deterministic training results. Consider cache='disk' as a deterministic alternative if your disk space allows.\n",
            "\u001b[K\u001b[34m\u001b[1mval: \u001b[0mCaching images (0.8GB RAM): 100% ━━━━━━━━━━━━ 1053/1053 472.3it/s 2.2s\n",
            "\u001b[34m\u001b[1moptimizer:\u001b[0m 'optimizer=auto' found, ignoring 'lr0=0.01' and 'momentum=0.937' and determining best 'optimizer', 'lr0' and 'momentum' automatically... \n",
            "\u001b[34m\u001b[1moptimizer:\u001b[0m AdamW(lr=0.001429, momentum=0.9) with parameter groups 57 weight(decay=0.0), 64 weight(decay=0.0005), 63 bias(decay=0.0)\n",
            "Image sizes 640 train, 640 val\n",
            "Using 8 dataloader workers\n",
            "Logging results to \u001b[1m/content/drive/MyDrive/PPE_Detection/ppe_model\u001b[0m\n",
            "Starting training for 20 epochs...\n",
            "\n",
            "      Epoch    GPU_mem   box_loss   cls_loss   dfl_loss  Instances       Size\n",
            "\u001b[K       1/20      7.73G      1.441      2.062      1.155        408        640: 100% ━━━━━━━━━━━━ 66/66 3.2it/s 20.6s\n",
            "\u001b[K                 Class     Images  Instances      Box(P          R      mAP50  mAP50-95): 100% ━━━━━━━━━━━━ 9/9 1.8it/s 4.9s\n",
            "                   all       1053       4136      0.979     0.0578      0.442      0.266\n",
            "\n",
            "      Epoch    GPU_mem   box_loss   cls_loss   dfl_loss  Instances       Size\n",
            "\u001b[K       2/20      9.96G       1.28      1.014      1.069        396        640: 100% ━━━━━━━━━━━━ 66/66 5.0it/s 13.2s\n",
            "\u001b[K                 Class     Images  Instances      Box(P          R      mAP50  mAP50-95): 100% ━━━━━━━━━━━━ 9/9 2.6it/s 3.4s\n",
            "                   all       1053       4136      0.575      0.571       0.61       0.38\n",
            "\n",
            "      Epoch    GPU_mem   box_loss   cls_loss   dfl_loss  Instances       Size\n",
            "\u001b[K       3/20      9.96G      1.289     0.9291      1.086        308        640: 100% ━━━━━━━━━━━━ 66/66 5.0it/s 13.2s\n",
            "\u001b[K                 Class     Images  Instances      Box(P          R      mAP50  mAP50-95): 100% ━━━━━━━━━━━━ 9/9 2.7it/s 3.3s\n",
            "                   all       1053       4136      0.858      0.457      0.524      0.325\n",
            "\n",
            "      Epoch    GPU_mem   box_loss   cls_loss   dfl_loss  Instances       Size\n",
            "\u001b[K       4/20      9.97G      1.275     0.8478      1.091        356        640: 100% ━━━━━━━━━━━━ 66/66 4.9it/s 13.5s\n",
            "\u001b[K                 Class     Images  Instances      Box(P          R      mAP50  mAP50-95): 100% ━━━━━━━━━━━━ 9/9 2.8it/s 3.2s\n",
            "                   all       1053       4136      0.939      0.574      0.623      0.386\n",
            "\n",
            "      Epoch    GPU_mem   box_loss   cls_loss   dfl_loss  Instances       Size\n",
            "\u001b[K       5/20      9.97G      1.247     0.7727      1.076        369        640: 100% ━━━━━━━━━━━━ 66/66 5.1it/s 13.1s\n",
            "\u001b[K                 Class     Images  Instances      Box(P          R      mAP50  mAP50-95): 100% ━━━━━━━━━━━━ 9/9 2.8it/s 3.2s\n",
            "                   all       1053       4136      0.937      0.586      0.628      0.402\n",
            "\n",
            "      Epoch    GPU_mem   box_loss   cls_loss   dfl_loss  Instances       Size\n",
            "\u001b[K       6/20      9.97G      1.229     0.7405      1.069        366        640: 100% ━━━━━━━━━━━━ 66/66 5.0it/s 13.2s\n",
            "\u001b[K                 Class     Images  Instances      Box(P          R      mAP50  mAP50-95): 100% ━━━━━━━━━━━━ 9/9 2.8it/s 3.3s\n",
            "                   all       1053       4136      0.932      0.567      0.617      0.401\n",
            "\n",
            "      Epoch    GPU_mem   box_loss   cls_loss   dfl_loss  Instances       Size\n",
            "\u001b[K       7/20      9.97G      1.207     0.7131      1.068        352        640: 100% ━━━━━━━━━━━━ 66/66 5.0it/s 13.2s\n",
            "\u001b[K                 Class     Images  Instances      Box(P          R      mAP50  mAP50-95): 100% ━━━━━━━━━━━━ 9/9 2.8it/s 3.2s\n",
            "                   all       1053       4136      0.953      0.578       0.63      0.411\n",
            "\n",
            "      Epoch    GPU_mem   box_loss   cls_loss   dfl_loss  Instances       Size\n",
            "\u001b[K       8/20      9.97G      1.192     0.6851      1.061        377        640: 100% ━━━━━━━━━━━━ 66/66 5.1it/s 13.0s\n",
            "\u001b[K                 Class     Images  Instances      Box(P          R      mAP50  mAP50-95): 100% ━━━━━━━━━━━━ 9/9 2.9it/s 3.1s\n",
            "                   all       1053       4136      0.944      0.601      0.641      0.421\n",
            "\n",
            "      Epoch    GPU_mem   box_loss   cls_loss   dfl_loss  Instances       Size\n",
            "\u001b[K       9/20      9.97G      1.182     0.6709      1.055        403        640: 100% ━━━━━━━━━━━━ 66/66 4.9it/s 13.4s\n",
            "\u001b[K                 Class     Images  Instances      Box(P          R      mAP50  mAP50-95): 100% ━━━━━━━━━━━━ 9/9 2.9it/s 3.1s\n",
            "                   all       1053       4136      0.961      0.581      0.635      0.432\n",
            "\n",
            "      Epoch    GPU_mem   box_loss   cls_loss   dfl_loss  Instances       Size\n",
            "\u001b[K      10/20      9.97G      1.164     0.6582      1.052        353        640: 100% ━━━━━━━━━━━━ 66/66 5.0it/s 13.2s\n",
            "\u001b[K                 Class     Images  Instances      Box(P          R      mAP50  mAP50-95): 100% ━━━━━━━━━━━━ 9/9 2.9it/s 3.1s\n",
            "                   all       1053       4136      0.956      0.584      0.637      0.426\n",
            "Closing dataloader mosaic\n",
            "\u001b[34m\u001b[1malbumentations: \u001b[0mBlur(p=0.01, blur_limit=(3, 7)), MedianBlur(p=0.01, blur_limit=(3, 7)), ToGray(p=0.01, method='weighted_average', num_output_channels=3), CLAHE(p=0.01, clip_limit=(1.0, 4.0), tile_grid_size=(8, 8))\n",
            "\n",
            "      Epoch    GPU_mem   box_loss   cls_loss   dfl_loss  Instances       Size\n",
            "\u001b[K      11/20      9.97G      1.172     0.6224      1.067        178        640: 100% ━━━━━━━━━━━━ 66/66 4.6it/s 14.5s\n",
            "\u001b[K                 Class     Images  Instances      Box(P          R      mAP50  mAP50-95): 100% ━━━━━━━━━━━━ 9/9 2.9it/s 3.1s\n",
            "                   all       1053       4136      0.951       0.59      0.638      0.422\n",
            "\n",
            "      Epoch    GPU_mem   box_loss   cls_loss   dfl_loss  Instances       Size\n",
            "\u001b[K      12/20      9.97G      1.158      0.607      1.055        153        640: 100% ━━━━━━━━━━━━ 66/66 5.1it/s 12.9s\n",
            "\u001b[K                 Class     Images  Instances      Box(P          R      mAP50  mAP50-95): 100% ━━━━━━━━━━━━ 9/9 2.9it/s 3.1s\n",
            "                   all       1053       4136      0.952      0.599      0.643      0.429\n",
            "\n",
            "      Epoch    GPU_mem   box_loss   cls_loss   dfl_loss  Instances       Size\n",
            "\u001b[K      13/20      9.97G      1.148     0.5828      1.054        178        640: 100% ━━━━━━━━━━━━ 66/66 5.1it/s 12.8s\n",
            "\u001b[K                 Class     Images  Instances      Box(P          R      mAP50  mAP50-95): 100% ━━━━━━━━━━━━ 9/9 2.9it/s 3.1s\n",
            "                   all       1053       4136      0.959      0.595      0.646      0.437\n",
            "\n",
            "      Epoch    GPU_mem   box_loss   cls_loss   dfl_loss  Instances       Size\n",
            "\u001b[K      14/20      9.97G      1.134     0.5683      1.049        188        640: 100% ━━━━━━━━━━━━ 66/66 5.1it/s 12.9s\n",
            "\u001b[K                 Class     Images  Instances      Box(P          R      mAP50  mAP50-95): 100% ━━━━━━━━━━━━ 9/9 2.6it/s 3.4s\n",
            "                   all       1053       4136      0.962      0.598      0.647      0.443\n",
            "\n",
            "      Epoch    GPU_mem   box_loss   cls_loss   dfl_loss  Instances       Size\n",
            "\u001b[K      15/20      9.97G      1.121     0.5557      1.041        207        640: 100% ━━━━━━━━━━━━ 66/66 5.1it/s 12.9s\n",
            "\u001b[K                 Class     Images  Instances      Box(P          R      mAP50  mAP50-95): 100% ━━━━━━━━━━━━ 9/9 3.0it/s 3.0s\n",
            "                   all       1053       4136      0.965      0.598      0.647      0.444\n",
            "\n",
            "      Epoch    GPU_mem   box_loss   cls_loss   dfl_loss  Instances       Size\n",
            "\u001b[K      16/20      9.97G      1.105     0.5427      1.033        232        640: 100% ━━━━━━━━━━━━ 66/66 5.2it/s 12.8s\n",
            "\u001b[K                 Class     Images  Instances      Box(P          R      mAP50  mAP50-95): 100% ━━━━━━━━━━━━ 9/9 2.9it/s 3.1s\n",
            "                   all       1053       4136      0.961      0.605      0.649      0.445\n",
            "\n",
            "      Epoch    GPU_mem   box_loss   cls_loss   dfl_loss  Instances       Size\n",
            "\u001b[K      17/20      9.99G      1.092     0.5265      1.027        210        640: 100% ━━━━━━━━━━━━ 66/66 5.1it/s 12.9s\n",
            "\u001b[K                 Class     Images  Instances      Box(P          R      mAP50  mAP50-95): 100% ━━━━━━━━━━━━ 9/9 2.9it/s 3.1s\n",
            "                   all       1053       4136      0.955      0.615      0.651      0.445\n",
            "\n",
            "      Epoch    GPU_mem   box_loss   cls_loss   dfl_loss  Instances       Size\n",
            "\u001b[K      18/20        10G      1.081      0.515      1.022        207        640: 100% ━━━━━━━━━━━━ 66/66 5.1it/s 12.9s\n",
            "\u001b[K                 Class     Images  Instances      Box(P          R      mAP50  mAP50-95): 100% ━━━━━━━━━━━━ 9/9 2.9it/s 3.1s\n",
            "                   all       1053       4136      0.967      0.609      0.651      0.453\n",
            "\n",
            "      Epoch    GPU_mem   box_loss   cls_loss   dfl_loss  Instances       Size\n",
            "\u001b[K      19/20        10G      1.067     0.5007      1.017        199        640: 100% ━━━━━━━━━━━━ 66/66 5.1it/s 12.8s\n",
            "\u001b[K                 Class     Images  Instances      Box(P          R      mAP50  mAP50-95): 100% ━━━━━━━━━━━━ 9/9 2.7it/s 3.3s\n",
            "                   all       1053       4136      0.604      0.644      0.651      0.452\n",
            "\n",
            "      Epoch    GPU_mem   box_loss   cls_loss   dfl_loss  Instances       Size\n",
            "\u001b[K      20/20        10G      1.056     0.4896      1.009        227        640: 100% ━━━━━━━━━━━━ 66/66 5.1it/s 12.9s\n",
            "\u001b[K                 Class     Images  Instances      Box(P          R      mAP50  mAP50-95): 100% ━━━━━━━━━━━━ 9/9 2.9it/s 3.1s\n",
            "                   all       1053       4136      0.961      0.615      0.652      0.454\n",
            "\n",
            "20 epochs completed in 0.095 hours.\n",
            "Optimizer stripped from /content/drive/MyDrive/PPE_Detection/ppe_model/weights/last.pt, 6.2MB\n",
            "Optimizer stripped from /content/drive/MyDrive/PPE_Detection/ppe_model/weights/best.pt, 6.2MB\n",
            "\n",
            "Validating /content/drive/MyDrive/PPE_Detection/ppe_model/weights/best.pt...\n",
            "Ultralytics 8.3.213 🚀 Python-3.12.12 torch-2.8.0+cu126 CUDA:0 (NVIDIA A100-SXM4-40GB, 40507MiB)\n",
            "Model summary (fused): 72 layers, 3,006,233 parameters, 0 gradients, 8.1 GFLOPs\n",
            "\u001b[K                 Class     Images  Instances      Box(P          R      mAP50  mAP50-95): 100% ━━━━━━━━━━━━ 9/9 3.3it/s 2.7s\n",
            "                   all       1053       4136       0.96      0.615      0.652      0.454\n",
            "Speed: 0.1ms preprocess, 0.3ms inference, 0.0ms loss, 0.8ms postprocess per image\n",
            "Modelo: /content/drive/MyDrive/PPE_Detection/ppe_model/weights/best.pt\n"
          ]
        }
      ]
    },
    {
      "cell_type": "code",
      "source": [
        "model_path = SAVE_DIR + '/ppe_model/weights/best.pt'\n",
        "test_model = YOLO(model_path)\n",
        "\n",
        "test_img = list(Path(DATASET_BASE + '/valid/images').glob('*.jpg'))[0]\n",
        "results = test_model.predict(test_img, conf=0.3, verbose=False)\n",
        "boxes = results[0].boxes\n",
        "\n",
        "print(f\"Imagem: {test_img.name}\")\n",
        "print(f\"Detecções: {len(boxes)}\")\n",
        "\n",
        "for i, box in enumerate(boxes[:5]):\n",
        "    cls_name = test_model.names[int(box.cls[0])]\n",
        "    conf = float(box.conf[0])\n",
        "    print(f\"  {i+1}. {cls_name}: {conf:.1%}\")"
      ],
      "metadata": {
        "colab": {
          "base_uri": "https://localhost:8080/"
        },
        "id": "dzdW4MvksZBX",
        "outputId": "aa268b6b-0d6e-4ce7-d5d5-19d6117130d3"
      },
      "execution_count": 10,
      "outputs": [
        {
          "output_type": "stream",
          "name": "stdout",
          "text": [
            "Imagem: 004988_jpg.rf.e34b8cefab46dbd23426077a03d21edc.jpg\n",
            "Detecções: 3\n",
            "  1. helmet: 87.7%\n",
            "  2. head: 84.6%\n",
            "  3. helmet: 43.1%\n"
          ]
        }
      ]
    },
    {
      "cell_type": "code",
      "source": [
        "model = YOLO(model_path)\n",
        "metrics = model.val(data=DATASET_BASE + '/data.yaml')\n",
        "\n",
        "print(f\"mAP50: {metrics.box.map50:.1%}\")\n",
        "print(f\"Precision: {metrics.box.mp:.1%}\")\n",
        "print(f\"Recall: {metrics.box.mr:.1%}\")"
      ],
      "metadata": {
        "colab": {
          "base_uri": "https://localhost:8080/"
        },
        "id": "mohDpfAl9kZ1",
        "outputId": "bd6b57c9-068b-4abb-9776-8f755cc7662b"
      },
      "execution_count": 11,
      "outputs": [
        {
          "output_type": "stream",
          "name": "stdout",
          "text": [
            "Ultralytics 8.3.213 🚀 Python-3.12.12 torch-2.8.0+cu126 CUDA:0 (NVIDIA A100-SXM4-40GB, 40507MiB)\n",
            "Model summary (fused): 72 layers, 3,006,233 parameters, 0 gradients, 8.1 GFLOPs\n",
            "\u001b[34m\u001b[1mval: \u001b[0mFast image access ✅ (ping: 0.0±0.0 ms, read: 1277.1±526.1 MB/s, size: 31.7 KB)\n",
            "\u001b[K\u001b[34m\u001b[1mval: \u001b[0mScanning /content/datasets/ppe/valid/labels.cache... 1053 images, 0 backgrounds, 0 corrupt: 100% ━━━━━━━━━━━━ 1053/1053 1.7Mit/s 0.0s\n",
            "\u001b[K                 Class     Images  Instances      Box(P          R      mAP50  mAP50-95): 100% ━━━━━━━━━━━━ 66/66 10.7it/s 6.2s\n",
            "                   all       1053       4136      0.961      0.615      0.652      0.455\n",
            "                  head        211        995      0.932      0.915      0.953      0.664\n",
            "                helmet        963       3048      0.953       0.93      0.977      0.686\n",
            "                person         27         93          1          0     0.0275     0.0149\n",
            "Speed: 0.2ms preprocess, 1.7ms inference, 0.0ms loss, 1.2ms postprocess per image\n",
            "Results saved to \u001b[1m/content/runs/detect/val\u001b[0m\n",
            "mAP50: 65.2%\n",
            "Precision: 96.1%\n",
            "Recall: 61.5%\n"
          ]
        }
      ]
    },
    {
      "cell_type": "code",
      "source": [
        "!pip install -q gradio\n",
        "\n",
        "import gradio as gr\n",
        "from ultralytics import YOLO\n",
        "import cv2\n",
        "import numpy as np\n",
        "from PIL import Image\n",
        "from pathlib import Path\n",
        "\n",
        "model_path = SAVE_DIR + '/ppe_model/weights/best.pt'\n",
        "model_cache = YOLO(model_path)\n",
        "\n",
        "def detect_ppe(image, confidence, show_labels, show_conf):\n",
        "    img_array = np.array(image)\n",
        "    results = model_cache.predict(img_array, conf=confidence, verbose=False)[0]\n",
        "    boxes = results.boxes\n",
        "    annotated = img_array.copy()\n",
        "\n",
        "    colors = [(255,0,0), (0,255,0), (255,165,0), (255,255,0), (255,0,255),\n",
        "              (0,255,255), (128,0,128), (0,128,0), (0,0,255), (128,128,128)]\n",
        "\n",
        "    detections = {}\n",
        "\n",
        "    for box in boxes:\n",
        "        x1, y1, x2, y2 = map(int, box.xyxy[0].cpu().numpy())\n",
        "        cls_id = int(box.cls[0])\n",
        "        conf = float(box.conf[0])\n",
        "        cls_name = model_cache.names[cls_id]\n",
        "        color = colors[cls_id % len(colors)]\n",
        "\n",
        "        cv2.rectangle(annotated, (x1, y1), (x2, y2), color, 3)\n",
        "\n",
        "        if show_labels or show_conf:\n",
        "            label = []\n",
        "            if show_labels:\n",
        "                label.append(cls_name)\n",
        "            if show_conf:\n",
        "                label.append(f\"{conf:.0%}\")\n",
        "            text = \" \".join(label)\n",
        "\n",
        "            (w, h), _ = cv2.getTextSize(text, cv2.FONT_HERSHEY_SIMPLEX, 0.6, 2)\n",
        "            cv2.rectangle(annotated, (x1, y1-25), (x1+w+10, y1), color, -1)\n",
        "            cv2.putText(annotated, text, (x1+5, y1-8),\n",
        "                       cv2.FONT_HERSHEY_SIMPLEX, 0.6, (255,255,255), 2)\n",
        "\n",
        "        if cls_name not in detections:\n",
        "            detections[cls_name] = []\n",
        "        detections[cls_name].append(conf)\n",
        "\n",
        "    info = [f\"Confianca minima: {confidence}\", f\"Deteccoes: {len(boxes)}\", \"\"]\n",
        "\n",
        "    if detections:\n",
        "        info.append(\"Por classe:\")\n",
        "        for cls, confs in sorted(detections.items()):\n",
        "            info.append(f\"  {cls}: {len(confs)}x (media: {np.mean(confs):.1%})\")\n",
        "    else:\n",
        "        info.append(\"Nenhuma deteccao\")\n",
        "\n",
        "    return Image.fromarray(annotated), \"\\n\".join(info)\n",
        "\n",
        "with gr.Blocks(title=\"Deteccao EPIs\") as demo:\n",
        "    gr.Markdown(\"# Deteccao de EPIs com YOLOv8\")\n",
        "\n",
        "    with gr.Row():\n",
        "        with gr.Column():\n",
        "            image_input = gr.Image(type=\"pil\", label=\"Carregar Imagem\")\n",
        "            conf_slider = gr.Slider(0.1, 1.0, 0.4, 0.05, label=\"Confianca Minima\")\n",
        "\n",
        "            with gr.Row():\n",
        "                labels_check = gr.Checkbox(value=True, label=\"Mostrar Labels\")\n",
        "                conf_check = gr.Checkbox(value=True, label=\"Mostrar Confianca\")\n",
        "\n",
        "            btn = gr.Button(\"Detectar EPIs\", variant=\"primary\", size=\"lg\")\n",
        "\n",
        "        with gr.Column():\n",
        "            image_output = gr.Image(label=\"Resultado\")\n",
        "            text_output = gr.Textbox(label=\"Informacoes\", lines=12)\n",
        "\n",
        "    btn.click(\n",
        "        detect_ppe,\n",
        "        [image_input, conf_slider, labels_check, conf_check],\n",
        "        [image_output, text_output]\n",
        "    )\n",
        "\n",
        "    gr.Markdown(f\"\"\"\n",
        "    ### Modelo Treinado\n",
        "    - Dataset: {len(list(Path(DATASET_BASE + '/train/images').glob('*.jpg')))} treino\n",
        "    - Modelo: YOLOv8n\n",
        "    - Classes: {len(model_cache.names)}\n",
        "    \"\"\")\n",
        "\n",
        "print(\"Iniciando Gradio...\")\n",
        "demo.launch(share=True, debug=False)"
      ],
      "metadata": {
        "colab": {
          "base_uri": "https://localhost:8080/",
          "height": 608
        },
        "id": "lZD-DVHM9me7",
        "outputId": "8dd75080-bc56-45c0-b969-e2895d88a603"
      },
      "execution_count": 13,
      "outputs": [
        {
          "output_type": "stream",
          "name": "stdout",
          "text": [
            "Iniciando Gradio...\n",
            "Colab notebook detected. To show errors in colab notebook, set debug=True in launch()\n",
            "* Running on public URL: https://4c20c1d5ebdde9ef7c.gradio.live\n",
            "\n",
            "This share link expires in 1 week. For free permanent hosting and GPU upgrades, run `gradio deploy` from the terminal in the working directory to deploy to Hugging Face Spaces (https://huggingface.co/spaces)\n"
          ]
        },
        {
          "output_type": "display_data",
          "data": {
            "text/plain": [
              "<IPython.core.display.HTML object>"
            ],
            "text/html": [
              "<div><iframe src=\"https://4c20c1d5ebdde9ef7c.gradio.live\" width=\"100%\" height=\"500\" allow=\"autoplay; camera; microphone; clipboard-read; clipboard-write;\" frameborder=\"0\" allowfullscreen></iframe></div>"
            ]
          },
          "metadata": {}
        },
        {
          "output_type": "execute_result",
          "data": {
            "text/plain": []
          },
          "metadata": {},
          "execution_count": 13
        }
      ]
    },
    {
      "cell_type": "code",
      "source": [],
      "metadata": {
        "id": "F6_WSffI93NK"
      },
      "execution_count": null,
      "outputs": []
    }
  ]
}